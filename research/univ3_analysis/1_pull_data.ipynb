{
 "cells": [
  {
   "cell_type": "code",
   "execution_count": 33,
   "metadata": {},
   "outputs": [
    {
     "name": "stdout",
     "output_type": "stream",
     "text": [
      "Libraries imported successfully!\n"
     ]
    }
   ],
   "source": [
    "import requests\n",
    "import pandas as pd\n",
    "import datetime as dt\n",
    "from datetime import timedelta\n",
    "import time\n",
    "import json\n",
    "\n",
    "print(\"Libraries imported successfully!\")\n"
   ]
  },
  {
   "cell_type": "code",
   "execution_count": null,
   "metadata": {},
   "outputs": [
    {
     "name": "stdout",
     "output_type": "stream",
     "text": [
      "Fetching Bitcoin price data from 2024-06-30 00:00:00 to 2025-06-30 00:00:00\n",
      "Symbol: ARBUSDC\n",
      "Interval: 1h\n"
     ]
    }
   ],
   "source": [
    "# Binance API configuration\n",
    "BASE_URL = \"https://api.binance.com/api/v3/klines\"\n",
    "SYMBOL = \"BTCUSDC\"\n",
    "INTERVAL = \"1h\"  # 1 hour timeframe\n",
    "\n",
    "# Calculate date range (1 year from last month)\n",
    "end_time = (dt.datetime.now().replace(day=1) - timedelta(days=1)).replace(hour=0, minute=0, second=0, microsecond=0)\n",
    "start_time = end_time - timedelta(days=365)\n",
    "\n",
    "print(f\"Fetching Bitcoin price data from {start_time.strftime('%Y-%m-%d %H:%M:%S')} to {end_time.strftime('%Y-%m-%d %H:%M:%S')}\")\n",
    "print(f\"Symbol: {SYMBOL}\")\n",
    "print(f\"Interval: {INTERVAL}\")\n"
   ]
  },
  {
   "cell_type": "code",
   "execution_count": 35,
   "metadata": {},
   "outputs": [
    {
     "name": "stdout",
     "output_type": "stream",
     "text": [
      "Functions defined successfully!\n"
     ]
    }
   ],
   "source": [
    "def fetch_binance_klines(symbol, interval, start_time, end_time, limit=1000):\n",
    "    \"\"\"\n",
    "    Fetch kline data from Binance API\n",
    "    \n",
    "    Parameters:\n",
    "    - symbol: Trading pair symbol (e.g., 'BTCUSDT')\n",
    "    - interval: Kline interval (e.g., '1h', '1d')\n",
    "    - start_time: Start time as timestamp (milliseconds)\n",
    "    - end_time: End time as timestamp (milliseconds)\n",
    "    - limit: Number of klines to return (max 1000)\n",
    "    \n",
    "    Returns:\n",
    "    - List of kline data\n",
    "    \"\"\"\n",
    "    \n",
    "    params = {\n",
    "        'symbol': symbol,\n",
    "        'interval': interval,\n",
    "        'startTime': int(start_time),\n",
    "        'endTime': int(end_time),\n",
    "        'limit': limit\n",
    "    }\n",
    "    \n",
    "    try:\n",
    "        response = requests.get(BASE_URL, params=params)\n",
    "        response.raise_for_status()\n",
    "        return response.json()\n",
    "    except requests.exceptions.RequestException as e:\n",
    "        print(f\"Error fetching data: {e}\")\n",
    "        return None\n",
    "\n",
    "def datetime_to_timestamp(dt_obj):\n",
    "    \"\"\"Convert datetime object to millisecond timestamp\"\"\"\n",
    "    return int(dt_obj.timestamp() * 1000)\n",
    "\n",
    "print(\"Functions defined successfully!\")\n"
   ]
  },
  {
   "cell_type": "code",
   "execution_count": 36,
   "metadata": {},
   "outputs": [
    {
     "name": "stdout",
     "output_type": "stream",
     "text": [
      "Data fetching function ready!\n"
     ]
    }
   ],
   "source": [
    "def fetch_all_bitcoin_data(symbol, interval, start_time, end_time):\n",
    "    \"\"\"\n",
    "    Fetch all Bitcoin data for the specified time range\n",
    "    Handles pagination automatically\n",
    "    \"\"\"\n",
    "    \n",
    "    all_data = []\n",
    "    current_start = start_time\n",
    "    \n",
    "    # Convert datetime to timestamps\n",
    "    start_timestamp = datetime_to_timestamp(current_start)\n",
    "    end_timestamp = datetime_to_timestamp(end_time)\n",
    "    \n",
    "    total_hours = int((end_timestamp - start_timestamp) / (1000 * 60 * 60))\n",
    "    print(f\"Total hours to fetch: {total_hours}\")\n",
    "    \n",
    "    batch_count = 0\n",
    "    \n",
    "    while current_start < end_time:\n",
    "        # Calculate end time for this batch (1000 hours or until end_time)\n",
    "        batch_end = current_start + timedelta(hours=999)  # 999 to be safe\n",
    "        if batch_end > end_time:\n",
    "            batch_end = end_time\n",
    "            \n",
    "        start_ts = datetime_to_timestamp(current_start)\n",
    "        end_ts = datetime_to_timestamp(batch_end)\n",
    "        \n",
    "        print(f\"Fetching batch {batch_count + 1}: {current_start.strftime('%Y-%m-%d %H:%M')} to {batch_end.strftime('%Y-%m-%d %H:%M')}\")\n",
    "        \n",
    "        # Fetch data for this batch\n",
    "        batch_data = fetch_binance_klines(symbol, interval, start_ts, end_ts)\n",
    "        \n",
    "        if batch_data:\n",
    "            all_data.extend(batch_data)\n",
    "            print(f\"  → Fetched {len(batch_data)} records\")\n",
    "        else:\n",
    "            print(\"  → Failed to fetch data for this batch\")\n",
    "            break\n",
    "            \n",
    "        # Move to next batch\n",
    "        current_start = batch_end + timedelta(hours=1)\n",
    "        batch_count += 1\n",
    "        \n",
    "        # Add a small delay to avoid hitting rate limits\n",
    "        time.sleep(0.1)\n",
    "    \n",
    "    print(f\"Total records fetched: {len(all_data)}\")\n",
    "    return all_data\n",
    "\n",
    "print(\"Data fetching function ready!\")\n"
   ]
  },
  {
   "cell_type": "code",
   "execution_count": 37,
   "metadata": {},
   "outputs": [
    {
     "name": "stdout",
     "output_type": "stream",
     "text": [
      "Starting data fetch...\n",
      "==================================================\n",
      "Total hours to fetch: 8760\n",
      "Fetching batch 1: 2024-06-30 00:00 to 2024-08-10 15:00\n",
      "  → Fetched 1000 records\n",
      "Fetching batch 2: 2024-08-10 16:00 to 2024-09-21 07:00\n",
      "  → Fetched 1000 records\n",
      "Fetching batch 3: 2024-09-21 08:00 to 2024-11-01 23:00\n",
      "  → Fetched 1000 records\n",
      "Fetching batch 4: 2024-11-02 00:00 to 2024-12-13 15:00\n",
      "  → Fetched 1000 records\n",
      "Fetching batch 5: 2024-12-13 16:00 to 2025-01-24 07:00\n",
      "  → Fetched 1000 records\n",
      "Fetching batch 6: 2025-01-24 08:00 to 2025-03-06 23:00\n",
      "  → Fetched 1000 records\n",
      "Fetching batch 7: 2025-03-07 00:00 to 2025-04-17 15:00\n",
      "  → Fetched 1000 records\n",
      "Fetching batch 8: 2025-04-17 16:00 to 2025-05-29 07:00\n",
      "  → Fetched 1000 records\n",
      "Fetching batch 9: 2025-05-29 08:00 to 2025-06-30 00:00\n",
      "  → Fetched 761 records\n",
      "Total records fetched: 8761\n",
      "==================================================\n",
      "Data fetch completed successfully!\n"
     ]
    }
   ],
   "source": [
    "# Fetch all Bitcoin data\n",
    "print(\"Starting data fetch...\")\n",
    "print(\"=\" * 50)\n",
    "\n",
    "bitcoin_data = fetch_all_bitcoin_data(SYMBOL, INTERVAL, start_time, end_time)\n",
    "\n",
    "if bitcoin_data:\n",
    "    print(\"=\" * 50)\n",
    "    print(\"Data fetch completed successfully!\")\n",
    "else:\n",
    "    print(\"Failed to fetch data. Please check your internet connection and try again.\")\n"
   ]
  },
  {
   "cell_type": "code",
   "execution_count": 38,
   "metadata": {},
   "outputs": [
    {
     "name": "stdout",
     "output_type": "stream",
     "text": [
      "Processing data into DataFrame...\n",
      "DataFrame created with 8761 rows\n",
      "Date range: 2024-06-29 17:00:00 to 2025-06-29 17:00:00\n"
     ]
    }
   ],
   "source": [
    "# Process the data into a pandas DataFrame\n",
    "if bitcoin_data:\n",
    "    print(\"Processing data into DataFrame...\")\n",
    "    \n",
    "    # Define column names based on Binance kline data format\n",
    "    columns = [\n",
    "        'open_time', 'open', 'high', 'low', 'close', 'volume',\n",
    "        'close_time', 'quote_asset_volume', 'number_of_trades',\n",
    "        'taker_buy_base_asset_volume', 'taker_buy_quote_asset_volume', 'ignore'\n",
    "    ]\n",
    "    \n",
    "    # Create DataFrame\n",
    "    df = pd.DataFrame(bitcoin_data, columns=columns)\n",
    "    \n",
    "    # Convert timestamp columns to datetime\n",
    "    df['open_time'] = pd.to_datetime(df['open_time'], unit='ms')\n",
    "    df['close_time'] = pd.to_datetime(df['close_time'], unit='ms')\n",
    "    \n",
    "    # Convert price columns to float\n",
    "    price_columns = ['open', 'high', 'low', 'close', 'volume', 'quote_asset_volume',\n",
    "                     'taker_buy_base_asset_volume', 'taker_buy_quote_asset_volume']\n",
    "    for col in price_columns:\n",
    "        df[col] = df[col].astype(float)\n",
    "    \n",
    "    # Sort by open_time to ensure chronological order\n",
    "    df = df.sort_values('open_time').reset_index(drop=True)\n",
    "    \n",
    "    # Remove the 'ignore' column as it's not needed\n",
    "    df = df.drop('ignore', axis=1)\n",
    "    \n",
    "    print(f\"DataFrame created with {len(df)} rows\")\n",
    "    print(f\"Date range: {df['open_time'].min()} to {df['open_time'].max()}\")\n",
    "    \n",
    "else:\n",
    "    print(\"No data to process.\")\n"
   ]
  },
  {
   "cell_type": "code",
   "execution_count": 39,
   "metadata": {},
   "outputs": [
    {
     "name": "stdout",
     "output_type": "stream",
     "text": [
      "============================================================\n",
      "BITCOIN PRICE DATA SUMMARY\n",
      "============================================================\n",
      "Total records: 8,761\n",
      "Time period: 2024-06-29 17:00 to 2025-06-29 17:00\n",
      "Symbol: ARBUSDC\n",
      "Interval: 1h\n",
      "\n",
      "PRICE STATISTICS (USD)\n",
      "------------------------------\n",
      "Highest price: $1.24\n",
      "Lowest price: $0.24\n",
      "Latest close price: $0.34\n",
      "First close price: $0.79\n",
      "Total price change: $-0.45 (-56.92%)\n",
      "\n",
      "VOLUME STATISTICS\n",
      "------------------------------\n",
      "Total volume (BTC): 3,049,800,941.80\n",
      "Average hourly volume (BTC): 348111.05\n",
      "Max hourly volume (BTC): 8,874,874.70\n",
      "\n",
      "FIRST 5 RECORDS:\n",
      "            open_time    open    high     low   close    volume\n",
      "0 2024-06-29 17:00:00  0.7874  0.7879  0.7843  0.7873  235540.4\n",
      "1 2024-06-29 18:00:00  0.7872  0.7880  0.7848  0.7862   58797.7\n",
      "2 2024-06-29 19:00:00  0.7858  0.7875  0.7818  0.7869  114933.1\n",
      "3 2024-06-29 20:00:00  0.7864  0.7880  0.7835  0.7840   75279.3\n",
      "4 2024-06-29 21:00:00  0.7841  0.7871  0.7817  0.7861   49688.9\n",
      "\n",
      "LAST 5 RECORDS:\n",
      "               open_time    open    high     low   close     volume\n",
      "8756 2025-06-29 13:00:00  0.3110  0.3120  0.3080  0.3081   499081.2\n",
      "8757 2025-06-29 14:00:00  0.3082  0.3090  0.3067  0.3069   535289.9\n",
      "8758 2025-06-29 15:00:00  0.3069  0.3154  0.3063  0.3147  2526993.9\n",
      "8759 2025-06-29 16:00:00  0.3147  0.3335  0.3147  0.3319  8874874.7\n",
      "8760 2025-06-29 17:00:00  0.3319  0.3399  0.3255  0.3392  2210176.3\n"
     ]
    }
   ],
   "source": [
    "# Display basic information about the data\n",
    "if 'df' in locals():\n",
    "    print(\"=\" * 60)\n",
    "    print(\"BITCOIN PRICE DATA SUMMARY\")\n",
    "    print(\"=\" * 60)\n",
    "    \n",
    "    # Basic info\n",
    "    print(f\"Total records: {len(df):,}\")\n",
    "    print(f\"Time period: {df['open_time'].min().strftime('%Y-%m-%d %H:%M')} to {df['open_time'].max().strftime('%Y-%m-%d %H:%M')}\")\n",
    "    print(f\"Symbol: {SYMBOL}\")\n",
    "    print(f\"Interval: {INTERVAL}\")\n",
    "    print()\n",
    "    \n",
    "    # Price statistics\n",
    "    print(\"PRICE STATISTICS (USD)\")\n",
    "    print(\"-\" * 30)\n",
    "    print(f\"Highest price: ${df['high'].max():,.2f}\")\n",
    "    print(f\"Lowest price: ${df['low'].min():,.2f}\")\n",
    "    print(f\"Latest close price: ${df['close'].iloc[-1]:,.2f}\")\n",
    "    print(f\"First close price: ${df['close'].iloc[0]:,.2f}\")\n",
    "    \n",
    "    price_change = df['close'].iloc[-1] - df['close'].iloc[0]\n",
    "    price_change_pct = (price_change / df['close'].iloc[0]) * 100\n",
    "    print(f\"Total price change: ${price_change:,.2f} ({price_change_pct:+.2f}%)\")\n",
    "    print()\n",
    "    \n",
    "    # Volume statistics\n",
    "    print(\"VOLUME STATISTICS\")\n",
    "    print(\"-\" * 30)\n",
    "    print(f\"Total volume (BTC): {df['volume'].sum():,.2f}\")\n",
    "    print(f\"Average hourly volume (BTC): {df['volume'].mean():.2f}\")\n",
    "    print(f\"Max hourly volume (BTC): {df['volume'].max():,.2f}\")\n",
    "    print()\n",
    "    \n",
    "    # Display first and last few rows\n",
    "    print(\"FIRST 5 RECORDS:\")\n",
    "    print(df[['open_time', 'open', 'high', 'low', 'close', 'volume']].head())\n",
    "    print()\n",
    "    print(\"LAST 5 RECORDS:\")\n",
    "    print(df[['open_time', 'open', 'high', 'low', 'close', 'volume']].tail())\n"
   ]
  },
  {
   "cell_type": "code",
   "execution_count": 40,
   "metadata": {},
   "outputs": [
    {
     "name": "stdout",
     "output_type": "stream",
     "text": [
      "Data saved to: ARBUSDC_hourly_data_20240630_20250630.csv\n",
      "File size: 8,761 rows x 11 columns\n",
      "\n",
      "DataFrame Info:\n",
      "<class 'pandas.core.frame.DataFrame'>\n",
      "RangeIndex: 8761 entries, 0 to 8760\n",
      "Data columns (total 11 columns):\n",
      " #   Column                        Non-Null Count  Dtype         \n",
      "---  ------                        --------------  -----         \n",
      " 0   open_time                     8761 non-null   datetime64[ns]\n",
      " 1   open                          8761 non-null   float64       \n",
      " 2   high                          8761 non-null   float64       \n",
      " 3   low                           8761 non-null   float64       \n",
      " 4   close                         8761 non-null   float64       \n",
      " 5   volume                        8761 non-null   float64       \n",
      " 6   close_time                    8761 non-null   datetime64[ns]\n",
      " 7   quote_asset_volume            8761 non-null   float64       \n",
      " 8   number_of_trades              8761 non-null   int64         \n",
      " 9   taker_buy_base_asset_volume   8761 non-null   float64       \n",
      " 10  taker_buy_quote_asset_volume  8761 non-null   float64       \n",
      "dtypes: datetime64[ns](2), float64(8), int64(1)\n",
      "memory usage: 753.0 KB\n",
      "None\n"
     ]
    }
   ],
   "source": [
    "# Save data to CSV file\n",
    "if 'df' in locals():\n",
    "    filename = f\"{SYMBOL}_hourly_data_{start_time.strftime('%Y%m%d')}_{end_time.strftime('%Y%m%d')}.csv\"\n",
    "    df.to_csv(filename, index=False)\n",
    "    print(f\"Data saved to: {filename}\")\n",
    "    print(f\"File size: {len(df):,} rows x {len(df.columns)} columns\")\n",
    "    \n",
    "    # Optional: Display DataFrame info\n",
    "    print(\"\\nDataFrame Info:\")\n",
    "    print(df.info())\n",
    "    \n",
    "else:\n",
    "    print(\"No data available to save.\")\n"
   ]
  }
 ],
 "metadata": {
  "kernelspec": {
   "display_name": ".venv",
   "language": "python",
   "name": "python3"
  },
  "language_info": {
   "codemirror_mode": {
    "name": "ipython",
    "version": 3
   },
   "file_extension": ".py",
   "mimetype": "text/x-python",
   "name": "python",
   "nbconvert_exporter": "python",
   "pygments_lexer": "ipython3",
   "version": "3.13.3"
  }
 },
 "nbformat": 4,
 "nbformat_minor": 2
}
